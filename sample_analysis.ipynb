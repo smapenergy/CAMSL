{
 "cells": [
  {
   "cell_type": "markdown",
   "metadata": {},
   "source": [
    "# CAMSL Dataset Journal Notebook"
   ]
  },
  {
   "cell_type": "code",
   "execution_count": 1,
   "metadata": {
    "collapsed": true
   },
   "outputs": [],
   "source": [
    "%matplotlib inline\n",
    "import datetime\n",
    "from datetime import datetime as dt\n",
    "import numpy as np\n",
    "import matplotlib.pyplot as plt\n",
    "import pandas as pd\n",
    "import glob\n",
    "import pickle\n",
    "import os\n",
    "\n",
    "import warnings\n",
    "warnings.filterwarnings(\"ignore\")\n",
    "plt.rc('font', family='serif')"
   ]
  },
  {
   "cell_type": "code",
   "execution_count": 2,
   "metadata": {
    "collapsed": true
   },
   "outputs": [],
   "source": [
    "customer_info_df = pd.read_csv(\"./sample_data/customer_info.csv\")"
   ]
  },
  {
   "cell_type": "code",
   "execution_count": 3,
   "metadata": {
    "collapsed": false
   },
   "outputs": [
    {
     "name": "stdout",
     "output_type": "stream",
     "text": [
      "TOU: 2\n",
      "NON TOU:  3\n",
      "Control:  0\n"
     ]
    }
   ],
   "source": [
    "TOU_customers = []\n",
    "NON_TOU_customers = []\n",
    "Control_customers = []\n",
    "for _, raw in customer_info_df.iterrows():\n",
    "    customer_id = int(raw[\"id\"])\n",
    "    tou_type = int(raw[\"tou\"])\n",
    "    if tou_type != 1:\n",
    "        NON_TOU_customers.append(customer_id)\n",
    "        if tou_type == 2:\n",
    "            Control_customers.append(customer_id)\n",
    "    else:\n",
    "        TOU_customers.append(customer_id)\n",
    "print(\"TOU:\", len(TOU_customers))\n",
    "print(\"NON TOU: \", len(NON_TOU_customers))\n",
    "print(\"Control: \", len(Control_customers))"
   ]
  },
  {
   "cell_type": "code",
   "execution_count": 4,
   "metadata": {
    "collapsed": true
   },
   "outputs": [],
   "source": [
    "def csv_to_consumption_dic(target_customers):\n",
    "    files = glob.glob(\"./sample_data/consumption_data/*/*.csv\")\n",
    "    print(\"total files: \", len(files))\n",
    "    consumption_data = {}\n",
    "    for file_path in files:\n",
    "        customer_id = int(file_path.split(\"/\")[-2])\n",
    "        # include only in target_customers\n",
    "        if not customer_id in target_customers:\n",
    "            continue\n",
    "\n",
    "        if customer_id not in consumption_data.keys():\n",
    "            consumption_data[customer_id] = {}\n",
    "        df = pd.read_csv(file_path, header=None)\n",
    "\n",
    "        for _, row in df.iterrows():\n",
    "            date_str, time_stamp, consumption = row\n",
    "            _dt = datetime.datetime.strptime(date_str, '%Y-%m-%d %H:%M:%S')\n",
    "            if _dt.date() not in consumption_data[customer_id].keys():\n",
    "                consumption_data[customer_id][_dt.date()] = [consumption]\n",
    "            else:\n",
    "                consumption_data[customer_id][_dt.date()].append(consumption)\n",
    "    return consumption_data"
   ]
  },
  {
   "cell_type": "code",
   "execution_count": 5,
   "metadata": {
    "collapsed": false
   },
   "outputs": [
    {
     "name": "stdout",
     "output_type": "stream",
     "text": [
      "total files:  95\n"
     ]
    }
   ],
   "source": [
    "all_customers = TOU_customers + Control_customers\n",
    "all_consumption = csv_to_consumption_dic(all_customers)"
   ]
  },
  {
   "cell_type": "code",
   "execution_count": 6,
   "metadata": {
    "collapsed": false
   },
   "outputs": [
    {
     "name": "stdout",
     "output_type": "stream",
     "text": [
      "# of all customers:  2\n",
      "# of valid TOU:  2\n",
      "# of valid NON-TOU:  0\n",
      "start_date:  2017-06-01\n",
      "end_date:  2018-12-31\n",
      "total data points:  27792\n"
     ]
    }
   ],
   "source": [
    "# describe dataset\n",
    "all_customers = list(all_consumption.keys())\n",
    "print(\"# of all customers: \", len(all_customers))\n",
    "print(\"# of valid TOU: \", len([a for a in all_customers if a in TOU_customers]))\n",
    "print(\"# of valid NON-TOU: \", len([a for a in all_customers if a in NON_TOU_customers]))\n",
    "print(\"start_date: \", min([min(v.keys()) for v in all_consumption.values()]))\n",
    "print(\"end_date: \", max([max(v.keys()) for v in all_consumption.values()]))\n",
    "print(\"total data points: \", len(all_consumption[TOU_customers[0]])*48)"
   ]
  },
  {
   "cell_type": "code",
   "execution_count": 7,
   "metadata": {
    "collapsed": true
   },
   "outputs": [],
   "source": [
    "import codecs\n",
    "df = pd.read_csv(\"./sample_data/holiday_Japan.csv\")\n",
    "holidays = df[\"date\"].apply(lambda x: dt.strptime(x, \"%Y-%m-%d\").date()).tolist()"
   ]
  },
  {
   "cell_type": "code",
   "execution_count": 8,
   "metadata": {
    "collapsed": true
   },
   "outputs": [],
   "source": [
    "def is_weekday(date):\n",
    "    if date.weekday() < 5 and date not in holidays:\n",
    "        return True\n",
    "    else:\n",
    "        return False\n",
    "\n",
    "def extract_average_consumption(year_month_list=[(2018, 4)], target_ids=None, weekday=True):\n",
    "    consumption_list = []\n",
    "    for customer_id, d_c_dic in all_consumption.items():\n",
    "        customer_consumption = []\n",
    "        if target_ids is not None and customer_id not in target_ids:\n",
    "            continue\n",
    "\n",
    "        for d, v in d_c_dic.items():\n",
    "            if weekday == True and is_weekday(d) == False:\n",
    "                continue\n",
    "            if weekday == False and is_weekday(d) == True:\n",
    "                continue\n",
    "            \n",
    "            year_month = (d.year, d.month)\n",
    "            if year_month in year_month_list and len(v) == 48 and np.nan not in v and None not in v: \n",
    "                customer_consumption.append(v)\n",
    "        consumption_list.extend(customer_consumption)\n",
    "    return np.nanmean(consumption_list, axis=0)"
   ]
  },
  {
   "cell_type": "code",
   "execution_count": 9,
   "metadata": {
    "collapsed": false
   },
   "outputs": [
    {
     "data": {
      "text/plain": [
       "[<matplotlib.lines.Line2D at 0x113708128>]"
      ]
     },
     "execution_count": 9,
     "metadata": {},
     "output_type": "execute_result"
    },
    {
     "data": {
      "image/png": "[encoded data removed]",
      "text/plain": [
       "<Figure size 600x400 with 1 Axes>"
      ]
     },
     "metadata": {},
     "output_type": "display_data"
    }
   ],
   "source": [
    "plt.title(\"Average Daily Consumption\", fontsize=18)\n",
    "plt.ylabel(\"Consumption [Wh]\", fontsize=18)\n",
    "plt.xlabel(\"Time Stamp (Half Hourly)\", fontsize=18)\n",
    "plt.axvspan(28.0, 44.0, facecolor='k', alpha=0.3)\n",
    "plt.plot(extract_average_consumption([(2018, 4), (2018, 5)], target_ids=TOU_customers, weekday=True))"
   ]
  }
 ],
 "metadata": {
  "kernelspec": {
   "display_name": "Python 3",
   "language": "python",
   "name": "python3"
  },
  "language_info": {
   "codemirror_mode": {
    "name": "ipython",
    "version": 3
   },
   "file_extension": ".py",
   "mimetype": "text/x-python",
   "name": "python",
   "nbconvert_exporter": "python",
   "pygments_lexer": "ipython3",
   "version": "3.5.1"
  },
  "toc": {
   "nav_menu": {},
   "number_sections": true,
   "sideBar": true,
   "skip_h1_title": false,
   "title_cell": "Table of Contents",
   "title_sidebar": "Contents",
   "toc_cell": false,
   "toc_position": {},
   "toc_section_display": true,
   "toc_window_display": false
  }
 },
 "nbformat": 4,
 "nbformat_minor": 0
}
